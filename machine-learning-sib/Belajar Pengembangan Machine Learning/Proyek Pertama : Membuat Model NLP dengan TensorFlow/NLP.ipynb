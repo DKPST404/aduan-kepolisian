{
  "nbformat": 4,
  "nbformat_minor": 0,
  "metadata": {
    "colab": {
      "name": "Untitled0.ipynb",
      "provenance": [],
      "authorship_tag": "ABX9TyP/jUkZbS3r+nYRwSN3VNJF",
      "include_colab_link": true
    },
    "kernelspec": {
      "name": "python3",
      "display_name": "Python 3"
    },
    "language_info": {
      "name": "python"
    }
  },
  "cells": [
    {
      "cell_type": "markdown",
      "metadata": {
        "id": "view-in-github",
        "colab_type": "text"
      },
      "source": [
        "<a href=\"https://colab.research.google.com/github/halimkun/aduan-kepolisian/blob/main/machine-learning-sib/Belajar%20Pengembangan%20Machine%20Learning/Proyek%20Pertama%20%3A%20Membuat%20Model%20NLP%20dengan%20TensorFlow/NLP.ipynb\" target=\"_parent\"><img src=\"https://colab.research.google.com/assets/colab-badge.svg\" alt=\"Open In Colab\"/></a>"
      ]
    },
    {
      "cell_type": "code",
      "execution_count": null,
      "metadata": {
        "id": "4l9pFGC8sLXa"
      },
      "outputs": [],
      "source": []
    }
  ]
}